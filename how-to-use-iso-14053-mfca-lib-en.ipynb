{
 "cells": [
  {
   "cell_type": "markdown",
   "id": "5910654f",
   "metadata": {},
   "source": [
    "# HOW TO USE ISO 14053:2021(E) MFCA C# Library\n",
    "\n",
    "The results of this project showcase an innovative C#-developed library crafted to empower users in understanding and applying the principles of ISO 14053:2021(E). To enhance the accessibility of this intricate standard, I harnessed the versatility of Jupyter Notebook to create engaging, interactive documentation and dynamic code examples. This seamless fusion of theoretical insights and hands-on programming not only makes learning more enjoyable but also equips users with a thorough guide for effective implementation.\n",
    "\n",
    "Mahler Chou (周敬斐)"
   ]
  },
  {
   "cell_type": "markdown",
   "id": "c354d481",
   "metadata": {},
   "source": [
    "### To use it for the first time, you must import the MfcaLib.cs library"
   ]
  },
  {
   "cell_type": "code",
   "execution_count": 19,
   "id": "e3981022",
   "metadata": {},
   "outputs": [],
   "source": [
    "#load \"MfcaLibs.cs\""
   ]
  },
  {
   "cell_type": "markdown",
   "id": "533db9ab",
   "metadata": {},
   "source": [
    "### Create a process instance/object to hold data\n",
    "\n",
    "According to ISO 14053, the term previously known as \"Quantity Center\" has been updated to \"Process\" to better align with standard terminology. \n",
    "\n",
    "The C# code sample below demonstrates how to declare a Process object variable named `p1`. When adding materials, waste treatment costs, and other related parameters, the variable `p` is used to define the scope of that process. This approach allows for flexibility; if you have multiple processes in the future, you can name them as you wish, such as `a1`, `a2`, and `a3`.\n",
    "\n",
    "When declaring a Process variable, you must provide the process name, start date, operation time, and expected completion quantity in that order. This basic information will be utilized for generating the final report."
   ]
  },
  {
   "cell_type": "code",
   "execution_count": 20,
   "id": "ac3fb1aa",
   "metadata": {},
   "outputs": [],
   "source": [
    "Process p1 = new(\"Steel plate cutting\", \"10/1\", \"(60 days)\", 2000);"
   ]
  },
  {
   "cell_type": "markdown",
   "id": "0078ce00",
   "metadata": {},
   "source": [
    "### TARGET MATERIALS\n",
    "We assume this process is a steel plate cutting department. The main raw materials input into it are steel plates of various sizes and thicknesses, each with a different unit price and quantity.\n",
    "\n",
    "| Item Name | Unit Price |Quantity |Cost  |Product Quantity |Loss Quantity |\n",
    "| ---:      | ---:       | ---:    | ---: | ---:            | ---:         |   \n",
    "| Steel sheet A|13|1207|15691|896|311|\n",
    "| Steel sheet B|8|600|4800|223|377 |\n",
    "| Steel sheet C|30|120|3600|88|32 |\n",
    "| Steel sheet D|20|602|12040|455|147|\n",
    "| Steel sheet E|36|180|6480|135|45|\n"
   ]
  },
  {
   "cell_type": "code",
   "execution_count": 21,
   "id": "f47a2a80",
   "metadata": {},
   "outputs": [],
   "source": [
    "p1.SetTargetMaterial(\"Steel sheet A\", 13, 896, 311);\n",
    "p1.SetTargetMaterial(\"Steel sheet B\", 8, 223, 377);\n",
    "p1.SetTargetMaterial(\"Steel sheet C\", 30, 88, 32);\n",
    "p1.SetTargetMaterial(\"Steel sheet D\", 20, 455, 147);\n",
    "p1.SetTargetMaterial(\"Steel sheet E\", 36, 135, 45);"
   ]
  },
  {
   "cell_type": "markdown",
   "id": "463d3f43",
   "metadata": {},
   "source": [
    "### Show material items in the process.\n",
    "After adding the material items into process object p1, you can call p1.ShowMaterial() print out all the material items in the process. \n",
    "> _Please note that the output results will show the material's allocation ratio (Allocation Ratio), which is used to allocate energy costs and system costs._"
   ]
  },
  {
   "cell_type": "code",
   "execution_count": 22,
   "id": "9032d642",
   "metadata": {},
   "outputs": [
    {
     "name": "stdout",
     "output_type": "stream",
     "text": [
      "(TARGET MATERIALS)\r\n",
      "Material Name        Unit Price Input      Cost       | Product    Cost       | Loss       Cost       | Loss Ratio \r\n",
      "-------------------- ---------- ---------- ---------- | ---------- ---------- | ---------- ---------- | ----------\r\n",
      "Steel sheet A                13       1207      15691 |        896      11648 |        311       4043 |      25.8%\r\n",
      "Steel sheet B                 8        600       4800 |        223       1784 |        377       3016 |      62.8%\r\n",
      "Steel sheet C                30        120       3600 |         88       2640 |         32        960 |      26.7%\r\n",
      "Steel sheet D                20        602      12040 |        455       9100 |        147       2940 |      24.4%\r\n",
      "Steel sheet E                36        180       6480 |        135       4860 |         45       1620 |      25.0%\r\n",
      "-------------------- ---------- ---------- ---------- | ---------- ---------- | ---------- ---------- | \r\n",
      "Subtotal of MTL.                      2709      42611 |       1797      30032 |        912      12579 | \r\n",
      "-------------------- ---------- ---------- ---------- | ---------- ---------- | ---------- ---------- | \r\n",
      "Allocation Ratio                                      |      66.3%            |      33.7%            |           \r\n"
     ]
    }
   ],
   "source": [
    "p1.ShowMaterial()"
   ]
  },
  {
   "cell_type": "markdown",
   "id": "45d2c1ea",
   "metadata": {},
   "source": [
    "> _In the production process, there are certain materials that, while not classified as primary raw materials, still play a vital role and are included in the material input list. Take lubricating oil, for example; it’s essential for ensuring that machines operate smoothly when cutting steel plates. Although lubricating oil is considered a non-primary material with a relatively minor impact on overall costs, its importance cannot be overlooked. Consequently, it is excluded from the calculation of the 'positive/negative product ratio,' a key metric that significantly influences the assessment of energy and system costs. This thoughtful approach underscores our commitment to accuracy and efficiency in production._"
   ]
  },
  {
   "cell_type": "code",
   "execution_count": 23,
   "id": "8e85d788",
   "metadata": {},
   "outputs": [
    {
     "name": "stdout",
     "output_type": "stream",
     "text": [
      "(TARGET MATERIALS)\r\n",
      "Material Name        Unit Price Input      Cost       | Product    Cost       | Loss       Cost       | Loss Ratio \r\n",
      "-------------------- ---------- ---------- ---------- | ---------- ---------- | ---------- ---------- | ----------\r\n",
      "Steel sheet A                13       1207      15691 |        896      11648 |        311       4043 |      25.8%\r\n",
      "Steel sheet B                 8        600       4800 |        223       1784 |        377       3016 |      62.8%\r\n",
      "Steel sheet C                30        120       3600 |         88       2640 |         32        960 |      26.7%\r\n",
      "Steel sheet D                20        602      12040 |        455       9100 |        147       2940 |      24.4%\r\n",
      "Steel sheet E                36        180       6480 |        135       4860 |         45       1620 |      25.0%\r\n",
      "* Machine oil                 2         28         56 |          0          0 |         28         56 |     100.0%\r\n",
      "-------------------- ---------- ---------- ---------- | ---------- ---------- | ---------- ---------- | \r\n",
      "Subtotal of MTL.                      2737      42667 |       1797      30032 |        940      12635 | \r\n",
      "-------------------- ---------- ---------- ---------- | ---------- ---------- | ---------- ---------- | \r\n",
      "Allocation Ratio                                      |      66.3%            |      33.7%            |           \r\n"
     ]
    }
   ],
   "source": [
    "p1.SetTargetMaterial(\"Machine oil\", 2, 0, 28, false);\n",
    "p1.ShowMaterial()"
   ]
  },
  {
   "cell_type": "markdown",
   "id": "b8e5732f",
   "metadata": {},
   "source": [
    "### WASTE MANAGEMENT COST\n",
    "Use `SetWasteMgmtCost(item, cost)` to add waste item cost to the process. Then use `ShowWasteMgmt()` print out the waste items list."
   ]
  },
  {
   "cell_type": "code",
   "execution_count": 24,
   "id": "1e11ae1a",
   "metadata": {},
   "outputs": [
    {
     "name": "stdout",
     "output_type": "stream",
     "text": [
      "(WASTE MANAGEMENT)\r\n",
      "Item Name                                             |                       |            Cost      \r\n",
      "-------------------- ---------- ---------- ---------- | ---------- ---------- | ---------- ----------\r\n",
      "Waste steel scrapts                                   |                       |            365       \r\n",
      "-------------------- ---------- ---------- ---------- | ---------- ---------- | ---------- ----------\r\n",
      "Subtotal                                              |                       |            365       \r\n",
      "-------------------- ---------- ---------- ---------- | ---------- ---------- | ---------- ----------\r\n"
     ]
    }
   ],
   "source": [
    "p1.SetWasteMgmtCost(\"Waste steel scrapts\", 365);\n",
    "p1.ShowWasteMgmt();"
   ]
  },
  {
   "cell_type": "markdown",
   "id": "936752e0",
   "metadata": {},
   "source": [
    "### ENERGY COST\n",
    "Use `SetEneryCost(item, cost)` to add the energy item. Calling `ShowEnergyCost()` to print the energy cost items in the process.\n",
    "\n",
    "> _Please note that the energy cost allocation for this run is calculated based on the material allocation (product/loss) ratio._"
   ]
  },
  {
   "cell_type": "code",
   "execution_count": 25,
   "id": "9e2f52fc",
   "metadata": {},
   "outputs": [
    {
     "name": "stdout",
     "output_type": "stream",
     "text": [
      "(ENERGY COSTS)\r\n",
      "Item Name            Unit Price Quantity   Cost       | Ratio(+)   Cost       | Ratio(-)   Cost      \r\n",
      "-------------------- ---------- ---------- ---------- | ---------- ---------- | ---------- ----------\r\n",
      "Electricity                                      1660 |      66.3%       1101 |      33.7%        559\r\n",
      "-------------------- ---------- ---------- ---------- | ---------- ---------- | ---------- ----------\r\n",
      "SUBTOTAL                                        1,660 |                 1,101 |                   559\r\n",
      "-------------------- ---------- ---------- ---------- | ---------- ---------- | ---------- ----------\r\n"
     ]
    }
   ],
   "source": [
    "p1.SetEnergyCost(\"Electricity\", 1660);\n",
    "p1.ShowEnergyCost();"
   ]
  },
  {
   "cell_type": "markdown",
   "id": "6d743523",
   "metadata": {},
   "source": [
    "# SYSTEM COST\n",
    "\n",
    "Additional costs such as equipment depreciation, machine operating costs, labor, and so on, are all included in the system cost. To add system costs, please use the `SetSystemCost(item, cost)` function. To view the system cost items within process p1, use the `ShowSystemCost()` function.\n",
    "\n",
    "> _Please note that the system cost allocation for this run is also calculated based on the material allocation (product/loss) ratio._"
   ]
  },
  {
   "cell_type": "code",
   "execution_count": 26,
   "id": "06b2de2b",
   "metadata": {},
   "outputs": [
    {
     "name": "stdout",
     "output_type": "stream",
     "text": [
      "(SYSTEM COSTS)\r\n",
      "Item Name            Unit Price Quantity   Cost       | Ratio(+)   Cost       | Ratio(-)   Cost      \r\n",
      "-------------------- ---------- ---------- ---------- | ---------- ---------- | ---------- ----------\r\n",
      "Labour                                          45000 |      66.3%      29835 |      33.7%      15165\r\n",
      "Depreciation                                    58000 |      66.3%      38454 |      33.7%      19546\r\n",
      "Other                                           15000 |      66.3%       9945 |      33.7%       5055\r\n",
      "-------------------- ---------- ---------- ---------- | ---------- ---------- | ---------- ----------\r\n",
      "SUBTOTAL                                      118,000 |      66.3%     78,234 |      33.7%     39,766\r\n",
      "-------------------- ---------- ---------- ---------- | ---------- ---------- | ---------- ----------\r\n"
     ]
    }
   ],
   "source": [
    "p1.SetSystemCost(\"Labour\", 45000);\n",
    "p1.SetSystemCost(\"Depreciation\", 58000);\n",
    "p1.SetSystemCost(\"Other\", 15000);\n",
    "p1.ShowSystemCost();"
   ]
  },
  {
   "cell_type": "markdown",
   "id": "976d0543",
   "metadata": {},
   "source": [
    "## MFCA SUMMARY SHEET\n",
    "\n",
    "In this compelling scenario, process `p1` focuses on a steel-cutting operation. Following the completion of data entry, you can easily invoke the Report method to generate a detailed calculation summary table. This table and the accompanying scenario are meticulously aligned with the standards set by ISO 14053:2021(E), `Table A.5`, ensuring the accuracy and reliability of the results.\n",
    "\n",
    "The calculation summary reveals a significant financial loss of approximately `$55,325` in this process, accounting for an astonishing `32.8%` of the total cost. This highlights a remarkable opportunity for improvement at this process station—particularly alarming is the scrap ratio for 'Steel Sheet B,' which stands at a staggering 62.8%.\n",
    "\n",
    "With the provided code and usage instructions, you can swiftly calculate losses across each process station. Moreover, these insights can be seamlessly integrated with work orders, routing, and BOM tables, or leveraged through automated procedures for consistent tracking and auditing in your ERP/MES systems. This vividly embodies the essence of Material Flow Cost Accounting (MFCA), which seeks to uncover hidden cost losses through the lens of material flow. Embracing this approach can pave the way for enhanced efficiency and profitability."
   ]
  },
  {
   "cell_type": "code",
   "execution_count": 27,
   "id": "a9d93daf",
   "metadata": {},
   "outputs": [
    {
     "name": "stdout",
     "output_type": "stream",
     "text": [
      "==================================================================================================================\r\n",
      "Selected production process: Steel plate cutting\r\n",
      "Production period: 10/1 - (60 days)\r\n",
      "Planned production volumn: 2000\r\n",
      "==================================================================================================================\r\n",
      "(TARGET MATERIALS)\r\n",
      "Material Name        Unit Price Input      Cost       | Product    Cost       | Loss       Cost       | Loss Ratio \r\n",
      "-------------------- ---------- ---------- ---------- | ---------- ---------- | ---------- ---------- | ----------\r\n",
      "Steel sheet A                13       1207      15691 |        896      11648 |        311       4043 |      25.8%\r\n",
      "Steel sheet B                 8        600       4800 |        223       1784 |        377       3016 |      62.8%\r\n",
      "Steel sheet C                30        120       3600 |         88       2640 |         32        960 |      26.7%\r\n",
      "Steel sheet D                20        602      12040 |        455       9100 |        147       2940 |      24.4%\r\n",
      "Steel sheet E                36        180       6480 |        135       4860 |         45       1620 |      25.0%\r\n",
      "* Machine oil                 2         28         56 |          0          0 |         28         56 |     100.0%\r\n",
      "-------------------- ---------- ---------- ---------- | ---------- ---------- | ---------- ---------- | \r\n",
      "Subtotal of MTL.                      2737      42667 |       1797      30032 |        940      12635 | \r\n",
      "-------------------- ---------- ---------- ---------- | ---------- ---------- | ---------- ---------- | \r\n",
      "Allocation Ratio                                      |      66.3%            |      33.7%            |           \r\n",
      "\r\n",
      "(WASTE MANAGEMENT)\r\n",
      "Item Name                                             |                       |            Cost      \r\n",
      "-------------------- ---------- ---------- ---------- | ---------- ---------- | ---------- ----------\r\n",
      "Waste steel scrapts                                   |                       |            365       \r\n",
      "-------------------- ---------- ---------- ---------- | ---------- ---------- | ---------- ----------\r\n",
      "Subtotal                                              |                       |            365       \r\n",
      "-------------------- ---------- ---------- ---------- | ---------- ---------- | ---------- ----------\r\n",
      "\r\n",
      "(ENERGY COSTS)\r\n",
      "Item Name            Unit Price Quantity   Cost       | Ratio(+)   Cost       | Ratio(-)   Cost      \r\n",
      "-------------------- ---------- ---------- ---------- | ---------- ---------- | ---------- ----------\r\n",
      "Electricity                                      1660 |      66.3%       1101 |      33.7%        559\r\n",
      "-------------------- ---------- ---------- ---------- | ---------- ---------- | ---------- ----------\r\n",
      "SUBTOTAL                                        1,660 |                 1,101 |                   559\r\n",
      "-------------------- ---------- ---------- ---------- | ---------- ---------- | ---------- ----------\r\n",
      "\r\n",
      "(SYSTEM COSTS)\r\n",
      "Item Name            Unit Price Quantity   Cost       | Ratio(+)   Cost       | Ratio(-)   Cost      \r\n",
      "-------------------- ---------- ---------- ---------- | ---------- ---------- | ---------- ----------\r\n",
      "Labour                                          45000 |      66.3%      29835 |      33.7%      15165\r\n",
      "Depreciation                                    58000 |      66.3%      38454 |      33.7%      19546\r\n",
      "Other                                           15000 |      66.3%       9945 |      33.7%       5055\r\n",
      "-------------------- ---------- ---------- ---------- | ---------- ---------- | ---------- ----------\r\n",
      "SUBTOTAL                                      118,000 |      66.3%     78,234 |      33.7%     39,766\r\n",
      "-------------------- ---------- ---------- ---------- | ---------- ---------- | ---------- ----------\r\n",
      "\r\n",
      "==================================================================================================================\r\n",
      "TOTAL COST                                    162,692 |               109,367 |                53,325\r\n",
      "                                                      |                 67.2% |                 32.8%\r\n"
     ]
    }
   ],
   "source": [
    "p1.Report();"
   ]
  }
 ],
 "metadata": {
  "kernelspec": {
   "display_name": ".NET (C#)",
   "language": "C#",
   "name": ".net-csharp"
  },
  "language_info": {
   "name": "polyglot-notebook"
  },
  "polyglot_notebook": {
   "kernelInfo": {
    "defaultKernelName": "csharp",
    "items": [
     {
      "aliases": [],
      "languageName": "csharp",
      "name": "csharp"
     }
    ]
   }
  }
 },
 "nbformat": 4,
 "nbformat_minor": 5
}
