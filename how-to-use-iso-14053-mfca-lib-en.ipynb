{
 "cells": [
  {
   "cell_type": "markdown",
   "id": "5910654f",
   "metadata": {},
   "source": [
    "# HOW TO USE ISO 14053:2021(E) MFCA C# Library"
   ]
  },
  {
   "cell_type": "code",
   "execution_count": 5,
   "id": "e3981022",
   "metadata": {},
   "outputs": [],
   "source": [
    "#load \"MfcaLibs.cs\""
   ]
  },
  {
   "cell_type": "code",
   "execution_count": 6,
   "id": "ac3fb1aa",
   "metadata": {},
   "outputs": [],
   "source": [
    "Process p1 = new(\"Steel plate cutting\", \"10/1\", \"(60 days)\", 2000);"
   ]
  },
  {
   "cell_type": "code",
   "execution_count": 7,
   "id": "f47a2a80",
   "metadata": {},
   "outputs": [],
   "source": [
    "p1.SetTargetMaterial(\"Steel sheet A\", 13, 896, 311);\n",
    "p1.SetTargetMaterial(\"Steel sheet B\", 8, 223, 377);\n",
    "p1.SetTargetMaterial(\"Steel sheet C\", 30, 88, 32);\n",
    "p1.SetTargetMaterial(\"Steel sheet D\", 20, 455, 147);\n",
    "p1.SetTargetMaterial(\"Steel sheet E\", 36, 135, 45);\n",
    "p1.SetTargetMaterial(\"Machine oil\", 2, 0, 28, false);"
   ]
  },
  {
   "cell_type": "code",
   "execution_count": 8,
   "id": "9032d642",
   "metadata": {},
   "outputs": [
    {
     "name": "stdout",
     "output_type": "stream",
     "text": [
      "(TARGET MATERIALS)\r\n",
      "Material Name        Unit Price Input      Cost       | Product    Cost       | Loss       Cost       | Loss Ratio \r\n",
      "-------------------- ---------- ---------- ---------- | ---------- ---------- | ---------- ---------- | ----------\r\n",
      "Steel sheet A                13       1207      15691 |        896      11648 |        311       4043 |      25.8%\r\n",
      "Steel sheet B                 8        600       4800 |        223       1784 |        377       3016 |      62.8%\r\n",
      "Steel sheet C                30        120       3600 |         88       2640 |         32        960 |      26.7%\r\n",
      "Steel sheet D                20        602      12040 |        455       9100 |        147       2940 |      24.4%\r\n",
      "Steel sheet E                36        180       6480 |        135       4860 |         45       1620 |      25.0%\r\n",
      "* Machine oil                 2         28         56 |          0          0 |         28         56 |     100.0%\r\n",
      "-------------------- ---------- ---------- ---------- | ---------- ---------- | ---------- ---------- | \r\n",
      "Subtotal of MTL.                      2737      42667 |       1797      30032 |        940      12635 | \r\n",
      "-------------------- ---------- ---------- ---------- | ---------- ---------- | ---------- ---------- | \r\n",
      "Allocation Ratio                                      |      66.3%            |      33.7%            |           \r\n"
     ]
    }
   ],
   "source": [
    "p1.ShowMaterial()"
   ]
  }
 ],
 "metadata": {
  "kernelspec": {
   "display_name": ".NET (C#)",
   "language": "C#",
   "name": ".net-csharp"
  },
  "language_info": {
   "name": "polyglot-notebook"
  },
  "polyglot_notebook": {
   "kernelInfo": {
    "defaultKernelName": "csharp",
    "items": [
     {
      "aliases": [],
      "languageName": "csharp",
      "name": "csharp"
     }
    ]
   }
  }
 },
 "nbformat": 4,
 "nbformat_minor": 5
}
